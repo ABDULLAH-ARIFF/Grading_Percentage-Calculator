{
  "nbformat": 4,
  "nbformat_minor": 0,
  "metadata": {
    "colab": {
      "provenance": [],
      "authorship_tag": "ABX9TyOPID7oHe+bOqkwqKoqGJSk",
      "include_colab_link": true
    },
    "kernelspec": {
      "name": "python3",
      "display_name": "Python 3"
    },
    "language_info": {
      "name": "python"
    }
  },
  "cells": [
    {
      "cell_type": "markdown",
      "metadata": {
        "id": "view-in-github",
        "colab_type": "text"
      },
      "source": [
        "<a href=\"https://colab.research.google.com/github/ABDULLAH-ARIFF/Grading_Percentage-Calculator/blob/main/Grading_Percentage_Calculator_.ipynb\" target=\"_parent\"><img src=\"https://colab.research.google.com/assets/colab-badge.svg\" alt=\"Open In Colab\"/></a>"
      ]
    },
    {
      "cell_type": "code",
      "execution_count": 1,
      "metadata": {
        "id": "SdsmtU03IyvR",
        "colab": {
          "base_uri": "https://localhost:8080/"
        },
        "outputId": "168c0eb5-6e9b-4596-fb76-f6d7dd228772"
      },
      "outputs": [
        {
          "output_type": "stream",
          "name": "stdout",
          "text": [
            "Each subject has 100 full marks. Enter your obtained marks. 😊\n",
            "Enter your Obtained marks in Math: 20\n",
            "Enter your Obtained marks in English: 50\n",
            "Enter your Obtained marks in Physics: 40\n",
            "Enter your Obtained marks in Computer: 70\n",
            "your percentage is 45.0% and your Grade is C 🏆 Good try! 👍\n"
          ]
        }
      ],
      "source": [
        "# __ GRADING and PERCENTAGE CALCULATOR __\n",
        "\n",
        "# This program calculates the percentage and grade based on the obtain marks in four subjects\n",
        "# Using if , elif , else conditions and Some Methods and Operators\n",
        "\n",
        "# Show a message for user about the Total marks for each subject\n",
        "print(\"Each subject has 100 full marks. Enter your obtained marks. 😊\")\n",
        "\n",
        "# Asking the user to enter marks for each subjects and convert the input in decimal values\n",
        "maths_marks = float(input(\"Enter your Obtained marks in Math: \"))\n",
        "English_marks = float(input(\"Enter your Obtained marks in English: \"))\n",
        "Physics_Marks = float(input(\"Enter your Obtained marks in Physics: \"))\n",
        "Computer_marks = float(input(\"Enter your Obtained marks in Computer: \"))\n",
        "\n",
        "# Adding the marks of all subjects to get the Total Obtain marks\n",
        "Obtain_marks = maths_marks + English_marks + Physics_Marks + Computer_marks\n",
        "\n",
        "# Assign 400 in Total marks variable\n",
        "Total_marks = 400\n",
        "\n",
        "# Calculate percentage using this Formula: (obtained marks / total marks) * 100\n",
        "Percentage = (Obtain_marks / Total_marks) * 100\n",
        "\n",
        "# Using conditional statements like: (if , elif , else) to assign a grade based on percentage\n",
        "\n",
        "if Percentage >=91 and Percentage <= 100 :\n",
        "  # If the percentage is between 91 and 100 the Student get an A++ grade with a praise message\n",
        " print(f\"your percentage is {Percentage}% and your Grade is A++ 🏆 Excellent! i am impressed 💙✨\")\n",
        "\n",
        "elif Percentage >= 81 and Percentage <= 90 :\n",
        "  # If the percentage is between 81 and 90 the Student get an A+ grade with a congratulations message\n",
        " print(f\"your percentage is {Percentage}% and your Grade is A+ 🏆 Great job! ⭐\")\n",
        "\n",
        "elif Percentage >= 70 and Percentage <= 80 :\n",
        "  # If the percentage is between 70 and 80 the Student get an A grade with an encouraging message\n",
        " print(f\" your percentage is {Percentage}% and your Grade is A 🏆 Well done! 🔥\")\n",
        "\n",
        "elif Percentage >= 55 and Percentage <= 69 :\n",
        "  # If the percentage is between 55 and 69 the Student get an B grade with a motivational message\n",
        " print(f\"your percentage is {Percentage}% and your Grade is B 🏆 Nice effort! 🎀\")\n",
        "\n",
        "elif Percentage >= 40 and Percentage <= 54 :\n",
        "  # If the percentage is between 40 and 54 the Student gets a C grade with a supportive message\n",
        " print(f\"your percentage is {Percentage}% and your Grade is C 🏆 Good try! 👍\")\n",
        "\n",
        "elif Percentage >= 25 and Percentage <= 39 :\n",
        "  # If the percentage is between 25 and 39 the Student gets a D grade with encouragement to improve\n",
        " print(f\" your percentage is {Percentage}% and your Grade is D 🏆 Keep going! 🚀\")\n",
        "\n",
        "elif Percentage >= 0 and Percentage <= 24 :\n",
        "  # If the percentage is below 25 the Student fail but motivated to try again\n",
        " print(f\"\"\"Your percentage is {Percentage}% and You are \"Fail\"\n",
        "but Don't lose hope! Learn from mistakes and try again! 💪🔥 \"\"\")\n",
        "\n",
        "else :\n",
        "  # If the input is invalid example: marks entered are out of range display an error message\n",
        " print(\" Invalid input. please enter your valid marks.\")"
      ]
    }
  ]
}