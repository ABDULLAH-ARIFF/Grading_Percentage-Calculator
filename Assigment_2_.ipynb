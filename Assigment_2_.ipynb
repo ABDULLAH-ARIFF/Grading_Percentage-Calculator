{
  "nbformat": 4,
  "nbformat_minor": 0,
  "metadata": {
    "colab": {
      "provenance": [],
      "authorship_tag": "ABX9TyM0YA9WKpkiS63aqiRoepSY",
      "include_colab_link": true
    },
    "kernelspec": {
      "name": "python3",
      "display_name": "Python 3"
    },
    "language_info": {
      "name": "python"
    }
  },
  "cells": [
    {
      "cell_type": "markdown",
      "metadata": {
        "id": "view-in-github",
        "colab_type": "text"
      },
      "source": [
        "<a href=\"https://colab.research.google.com/github/ABDULLAH-ARIFF/Grading_Percentage-Calculator/blob/main/Assigment_2_.ipynb\" target=\"_parent\"><img src=\"https://colab.research.google.com/assets/colab-badge.svg\" alt=\"Open In Colab\"/></a>"
      ]
    },
    {
      "cell_type": "code",
      "execution_count": null,
      "metadata": {
        "id": "n6zCkmiqdRiA"
      },
      "outputs": [],
      "source": [
        "# Simple_Calculator\n",
        "# Using if , elif and else conditions\n",
        "\n",
        "\n",
        "# num_1 variable taking the first numbers as input from User\n",
        "num_1 = int(input(\"Enter first numbers: \"))\n",
        "\n",
        "# operator variable taking single operator as input from User\n",
        "operator = input(\"Enter a operator: \")\n",
        "\n",
        "# num_2 variable taking the second numbers as input from User\n",
        "num_2 = int(input(\"Enter second numbers: \"))\n",
        "\n",
        "# check if user has enter addition \"+\" operator\n",
        "if operator == \"+\" :\n",
        "# printing num_1 , opeartor and num_2 with some text with a emoji then adding two varaibles num_1 and num_2\n",
        " print(f\"You put {num_1} {operator} {num_2} your answer is \",num_1 + num_2 , \"😊\")\n",
        "\n",
        "# check if user has enter division \"/\" operator\n",
        "elif operator == \"/\" :\n",
        "# printing num_1 , opeartor and num_2 with some text with a emoji then divide two varaibles num_1 and num_2\n",
        " print(f\"You put {num_1} {operator} {num_2} your answer is \", num_1 / num_2 , \"💡\")\n",
        "\n",
        "# check if user has enter reminder \"%\" operator\n",
        "elif operator == \"%\" :\n",
        "# printing num_1 , opeartor and num_2 with some text with a emoji then Reminder in two varaibles num_1 and num_2\n",
        " print(f\"You put {num_1} {operator} {num_2} your answer is \", num_1 % num_2 , \"🚀\")\n",
        "\n",
        "# check if user has enter multiplication \"*\" operator\n",
        "elif operator == \"*\" :\n",
        "# printing num_1 , opeartor and num_2 with some text with a emoji then multiply two varaibles num_1 and num_2\n",
        "  print(f\"You put {num_1} {operator} {num_2} your answer is \" ,num_1 * num_2 , \"✨\")\n",
        "\n",
        "# check if user has enter power square of a numbers \"**\" operator\n",
        "elif operator == \"**\" :\n",
        "# printing num_1 , opeartor and num_2 with some text with a emoji then square 2 two varaibles num_1 and num_2\n",
        "  print(f\"You put {num_1} {operator} {num_2} your answer is \" ,num_1 ** num_2 , \"🔥\")\n",
        "\n",
        "# check if user has enter subtract \"-\" operator\n",
        "elif operator == \"-\" :\n",
        "# printing num_1 , opeartor and num_2 with some text with a emoji then subtract two varaibles num_1 and num_2\n",
        " print(f\"You put {num_1} {operator} {num_2} your answer is \" , num_1 - num_2 ,\"💙\")\n",
        "\n",
        "# Check if the user has entered the equality operator ('=') and the two numbers are the same\n",
        "elif operator == \"=\" and num_1 == num_2 :\n",
        "# If both numbers are equal, display \"Equal\" with a checkmark emoji ✅\n",
        " print(\"Equal \\U00002705\")\n",
        "\n",
        "# Check if the user entered the equality operator ('=') but the numbers are not the same\n",
        "elif operator == \"=\" or num_1 == num_2 :\n",
        "# If numbers are different then output \"Not equal\" with stop sign ⛔\n",
        "  print(\"Not equal \\u26D4\")\n",
        "\n",
        "# If none of the above conditions match it means the user entered an invalid operator\n",
        "else :\n",
        "# Display an error message indicating invalid input with a cross mark ❌\n",
        "  print(\"Your input is invalid \\u274C\")"
      ]
    },
    {
      "cell_type": "code",
      "source": [
        "# __ GRADING and PERCENTAGE CALCULATOR __\n",
        "\n",
        "# This program calculates the percentage and grade based on the obtain marks in four subjects\n",
        "# Using if , elif , else conditions and Some Methods and Operators\n",
        "\n",
        "# Show a message for user about the Total marks for each subject\n",
        "print(\"Each subject has 100 full marks. Enter your obtained marks. 😊\")\n",
        "\n",
        "# Asking the user to enter marks for each subjects and convert the input in decimal values\n",
        "maths_marks = float(input(\"Enter your Obtained marks in Math: \"))\n",
        "English_marks = float(input(\"Enter your Obtained marks in English: \"))\n",
        "Physics_Marks = float(input(\"Enter your Obtained marks in Physics: \"))\n",
        "Computer_marks = float(input(\"Enter your Obtained marks in Computer: \"))\n",
        "\n",
        "# Adding the marks of all subjects to get the Total Obtain marks\n",
        "Obtain_marks = maths_marks + English_marks + Physics_Marks + Computer_marks\n",
        "\n",
        "# Assign 400 in Total marks variable\n",
        "Total_marks = 400\n",
        "\n",
        "# Calculate percentage using this Formula: (obtained marks / total marks) * 100\n",
        "Percentage = (Obtain_marks / Total_marks) * 100\n",
        "\n",
        "# Using conditional statements like: (if , elif , else) to assign a grade based on percentage\n",
        "\n",
        "if Percentage >=91 and Percentage <= 100 :\n",
        "  # If the percentage is between 91 and 100 the Student get an A++ grade with a praise message\n",
        " print(f\"your percentage is {Percentage}% and your Grade is A++ 🏆 Excellent! i am impressed 💙✨\")\n",
        "\n",
        "elif Percentage >= 81 and Percentage <= 90 :\n",
        "  # If the percentage is between 81 and 90 the Student get an A+ grade with a congratulations message\n",
        " print(f\"your percentage is {Percentage}% and your Grade is A+ 🏆 Great job! ⭐\")\n",
        "\n",
        "elif Percentage >= 70 and Percentage <= 80 :\n",
        "  # If the percentage is between 70 and 80 the Student get an A grade with an encouraging message\n",
        " print(f\" your percentage is {Percentage}% and your Grade is A 🏆 Well done! 🔥\")\n",
        "\n",
        "elif Percentage >= 55 and Percentage <= 69 :\n",
        "  # If the percentage is between 55 and 69 the Student get an B grade with a motivational message\n",
        " print(f\"your percentage is {Percentage}% and your Grade is B 🏆 Nice effort! 🎀\")\n",
        "\n",
        "elif Percentage >= 40 and Percentage <= 54 :\n",
        "  # If the percentage is between 40 and 54 the Student gets a C grade with a supportive message\n",
        " print(f\"your percentage is {Percentage}% and your Grade is C 🏆 Good try! 👍\")\n",
        "\n",
        "elif Percentage >= 25 and Percentage <= 39 :\n",
        "  # If the percentage is between 25 and 39 the Student gets a D grade with encouragement to improve\n",
        " print(f\" your percentage is {Percentage}% and your Grade is D 🏆 Keep going! 🚀\")\n",
        "\n",
        "elif Percentage >= 0 and Percentage <= 24 :\n",
        "  # If the percentage is below 25 the Student fail but motivated to try again\n",
        " print(f\"\"\"Your percentage is {Percentage}% and You are \"Fail\"\n",
        "but Don't lose hope! Learn from mistakes and try again! 💪🔥 \"\"\")\n",
        "\n",
        "else :\n",
        "  # If the input is invalid example: marks entered are out of range display an error message\n",
        " print(\" Invalid input. please enter your valid marks.\")"
      ],
      "metadata": {
        "colab": {
          "base_uri": "https://localhost:8080/"
        },
        "id": "9BXukhJhR0_5",
        "outputId": "98ddf747-b539-47e7-ad8d-3455c977aeda"
      },
      "execution_count": null,
      "outputs": [
        {
          "output_type": "stream",
          "name": "stdout",
          "text": [
            "Each subject has 100 full marks. Enter your obtained marks. 😊\n",
            "Enter your Obtained marks in Math: 90\n",
            "Enter your Obtained marks in English: 95\n",
            "Enter your Obtained marks in Physics: 91\n",
            "Enter your Obtained marks in Computer: 89\n",
            "your percentage is 91.25% and your Grade is A++ 🏆 Excellent! i am impressed 💙✨\n"
          ]
        }
      ]
    }
  ]
}